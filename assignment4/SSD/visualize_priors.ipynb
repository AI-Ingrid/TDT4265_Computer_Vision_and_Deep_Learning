{
 "cells": [
  {
   "cell_type": "code",
   "execution_count": 20,
   "metadata": {},
   "outputs": [
    {
     "name": "stdout",
     "output_type": "stream",
     "text": [
      "/home/taheeraa/TDT4265-Data-Vision-and-Deep-Learning/assignment4\n"
     ]
    }
   ],
   "source": [
    "import matplotlib.pyplot as plt\n",
    "import matplotlib\n",
    "import numpy as np\n",
    "import os\n",
    "import sys\n",
    "sys.path.append(os.path.dirname(os.getcwd())) # Insert all modules from the folder above\n",
    "print(os.path.dirname(os.getcwd())) # Insert all modules from the folder above)\n",
    "from tops.config import LazyConfig, instantiate\n"
   ]
  },
  {
   "cell_type": "code",
   "execution_count": 21,
   "metadata": {},
   "outputs": [],
   "source": [
    "def plot_bbox(ax, box, color, circle=True):\n",
    "    cx, cy, w, h = box\n",
    "    cx *= cfg.train.imshape[1]\n",
    "    cy *= cfg.train.imshape[0]\n",
    "    w *= cfg.train.imshape[1]\n",
    "    h *= cfg.train.imshape[0]\n",
    "    x1, y1 = cx + w/2, cy + h/2\n",
    "    x0, y0 = cx - w/2, cy - h/2\n",
    "    if circle:\n",
    "        ax.add_artist(matplotlib.patches.Ellipse([cx, cy], w,h, alpha=.1, color=color))\n",
    "        plt.plot(cx, cy, f\"o{color}\")\n",
    "    else:\n",
    "        plt.plot([x0, x0, x1, x1, x0],[y0, y1, y1, y0, y0], f\"{color}\", alpha=.5)\n",
    "        \n",
    "def get_num_boxes_in_fmap(idx):\n",
    "    boxes_per_location = 2 + 2*len(cfg.anchors.aspect_ratios[idx])\n",
    "    feature_map_size = cfg.anchors.feature_sizes[idx]\n",
    "    return int(boxes_per_location * np.prod(feature_map_size))"
   ]
  },
  {
   "cell_type": "code",
   "execution_count": 22,
   "metadata": {},
   "outputs": [
    {
     "name": "stdout",
     "output_type": "stream",
     "text": [
      "Saving SSD outputs to: outputs/\n",
      "Number of anchors: 8732\n",
      "Aspect used for feature map: [2]\n"
     ]
    }
   ],
   "source": [
    "cfg = LazyConfig.load(\"configs/ssd300.py\")\n",
    "anchors = instantiate(cfg.anchors)(order=\"xywh\")\n",
    "print(\"Number of anchors:\", len(anchors))\n",
    "\n",
    "PLOT_CIRCLE = True\n",
    "fmap_idx_to_visualize = 5\n",
    "print(\"Aspect used for feature map:\", cfg.anchors.aspect_ratios[fmap_idx_to_visualize])\n",
    "# Set which aspect ratio indices we want to visualize\n",
    "aspect_ratio_indices = [0, 1, 2, 3]\n",
    "\n",
    "offset = sum([get_num_boxes_in_fmap(prev_layer) for prev_layer in range(fmap_idx_to_visualize)])"
   ]
  },
  {
   "cell_type": "code",
   "execution_count": 23,
   "metadata": {},
   "outputs": [
    {
     "ename": "IndexError",
     "evalue": "only integers, slices (`:`), ellipsis (`...`), None and long or byte Variables are valid indices (got float)",
     "output_type": "error",
     "traceback": [
      "\u001b[0;31m---------------------------------------------------------------------------\u001b[0m",
      "\u001b[0;31mIndexError\u001b[0m                                Traceback (most recent call last)",
      "\u001b[0;32m<ipython-input-23-2ed9eacda2d2>\u001b[0m in \u001b[0;36m<module>\u001b[0;34m\u001b[0m\n\u001b[1;32m     20\u001b[0m \u001b[0max\u001b[0m\u001b[0;34m.\u001b[0m\u001b[0madd_artist\u001b[0m\u001b[0;34m(\u001b[0m\u001b[0mplt\u001b[0m\u001b[0;34m.\u001b[0m\u001b[0mRectangle\u001b[0m\u001b[0;34m(\u001b[0m\u001b[0;34m[\u001b[0m\u001b[0;36m0\u001b[0m\u001b[0;34m,\u001b[0m \u001b[0;36m0\u001b[0m\u001b[0;34m]\u001b[0m\u001b[0;34m,\u001b[0m \u001b[0mcfg\u001b[0m\u001b[0;34m.\u001b[0m\u001b[0mtrain\u001b[0m\u001b[0;34m.\u001b[0m\u001b[0mimshape\u001b[0m\u001b[0;34m[\u001b[0m\u001b[0;36m1\u001b[0m\u001b[0;34m]\u001b[0m\u001b[0;34m,\u001b[0m \u001b[0mcfg\u001b[0m\u001b[0;34m.\u001b[0m\u001b[0mtrain\u001b[0m\u001b[0;34m.\u001b[0m\u001b[0mimshape\u001b[0m\u001b[0;34m[\u001b[0m\u001b[0;36m0\u001b[0m\u001b[0;34m]\u001b[0m\u001b[0;34m)\u001b[0m\u001b[0;34m)\u001b[0m\u001b[0;34m\u001b[0m\u001b[0;34m\u001b[0m\u001b[0m\n\u001b[1;32m     21\u001b[0m \u001b[0;32mfor\u001b[0m \u001b[0mi\u001b[0m\u001b[0;34m,\u001b[0m \u001b[0midx\u001b[0m \u001b[0;32min\u001b[0m \u001b[0menumerate\u001b[0m\u001b[0;34m(\u001b[0m\u001b[0mindices_to_visualize\u001b[0m\u001b[0;34m)\u001b[0m\u001b[0;34m:\u001b[0m\u001b[0;34m\u001b[0m\u001b[0;34m\u001b[0m\u001b[0m\n\u001b[0;32m---> 22\u001b[0;31m     \u001b[0mprior\u001b[0m \u001b[0;34m=\u001b[0m \u001b[0manchors\u001b[0m\u001b[0;34m[\u001b[0m\u001b[0midx\u001b[0m\u001b[0;34m]\u001b[0m\u001b[0;34m\u001b[0m\u001b[0;34m\u001b[0m\u001b[0m\n\u001b[0m\u001b[1;32m     23\u001b[0m     \u001b[0mcolor\u001b[0m \u001b[0;34m=\u001b[0m \u001b[0mcolors\u001b[0m\u001b[0;34m[\u001b[0m\u001b[0mi\u001b[0m\u001b[0;34m]\u001b[0m\u001b[0;34m\u001b[0m\u001b[0;34m\u001b[0m\u001b[0m\n\u001b[1;32m     24\u001b[0m     \u001b[0mplot_bbox\u001b[0m\u001b[0;34m(\u001b[0m\u001b[0max\u001b[0m\u001b[0;34m,\u001b[0m \u001b[0mprior\u001b[0m\u001b[0;34m,\u001b[0m \u001b[0mcolor\u001b[0m\u001b[0;34m,\u001b[0m \u001b[0mPLOT_CIRCLE\u001b[0m\u001b[0;34m)\u001b[0m\u001b[0;34m\u001b[0m\u001b[0;34m\u001b[0m\u001b[0m\n",
      "\u001b[0;31mIndexError\u001b[0m: only integers, slices (`:`), ellipsis (`...`), None and long or byte Variables are valid indices (got float)"
     ]
    },
    {
     "data": {
      "image/png": "[encoded data removed]",
      "text/plain": [
       "<Figure size 432x288 with 1 Axes>"
      ]
     },
     "metadata": {
      "needs_background": "light"
     },
     "output_type": "display_data"
    }
   ],
   "source": [
    "fig, ax = plt.subplots()\n",
    "\n",
    "# Set up our scene\n",
    "plt.ylim([-100, cfg.train.imshape[0]+100])\n",
    "plt.xlim([-100, cfg.train.imshape[1]+100])\n",
    "\n",
    "\n",
    "\n",
    "boxes_per_location = 2 + 2*len(cfg.anchors.aspect_ratios[fmap_idx_to_visualize])\n",
    "#indices_to_visualize = [[162,162], [19.4, 19.4],[229.1, 11.1], [280.6,280.6 ] ]\n",
    "indices_to_visualize = [162, 19.4,229.1, 280.6]\n",
    "colors = [\"r\", \"g\", \"b\", \"y\"]\n",
    "available_colors = [\"r\", \"g\", \"b\", \"y\", \"m\", \"b\",\"w\"]\n",
    "for idx in range(offset, offset + get_num_boxes_in_fmap(fmap_idx_to_visualize)):\n",
    "    for aspect_ratio_idx in aspect_ratio_indices:\n",
    "        if idx % boxes_per_location == aspect_ratio_idx:\n",
    "            indices_to_visualize.append(idx)\n",
    "            colors.append(available_colors[aspect_ratio_idx])\n",
    "\n",
    "ax.add_artist(plt.Rectangle([0, 0], cfg.train.imshape[1], cfg.train.imshape[0]))\n",
    "for i, idx in enumerate(indices_to_visualize):\n",
    "    prior = anchors[idx]\n",
    "    color = colors[i]\n",
    "    plot_bbox(ax, prior, color, PLOT_CIRCLE)\n",
    "plt.show()"
   ]
  },
  {
   "cell_type": "code",
   "execution_count": null,
   "metadata": {},
   "outputs": [],
   "source": []
  }
 ],
 "metadata": {
  "interpreter": {
   "hash": "767d51c1340bd893661ea55ea3124f6de3c7a262a8b4abca0554b478b1e2ff90"
  },
  "kernelspec": {
   "display_name": "ssd",
   "language": "python",
   "name": "python3"
  },
  "language_info": {
   "codemirror_mode": {
    "name": "ipython",
    "version": 3
   },
   "file_extension": ".py",
   "mimetype": "text/x-python",
   "name": "python",
   "nbconvert_exporter": "python",
   "pygments_lexer": "ipython3",
   "version": "3.8.10"
  }
 },
 "nbformat": 4,
 "nbformat_minor": 4
}
